{
 "cells": [
  {
   "cell_type": "markdown",
   "id": "beb1b705-d760-49f9-babe-497e34ba3a1a",
   "metadata": {},
   "source": [
    "# Notion of Maximality and Closedness"
   ]
  },
  {
   "cell_type": "markdown",
   "id": "fe7d6d13-4f39-4a5f-ad88-e4853fe6b7c2",
   "metadata": {},
   "source": [
    "## Preamble"
   ]
  },
  {
   "cell_type": "markdown",
   "id": "092c0006-c323-4e51-978d-2a82300b260c",
   "metadata": {},
   "source": [
    "### Modules\n",
    "\n",
    "`Student: Misati`\n",
    "\n",
    "`Editor: Samuel`"
   ]
  },
  {
   "cell_type": "code",
   "execution_count": null,
   "id": "55ab288e-a7b0-492a-9cdc-6e44ff060dd5",
   "metadata": {},
   "outputs": [],
   "source": [
    "# [Student: Misati] Importing data mining libraries\n",
    "# [Editor: Samuel] Import necessary libraries\n",
    "import pandas as pd\n",
    "import itertools\n",
    "import random\n",
    "from mlxtend.frequent_patterns import apriori, association_rules"
   ]
  },
  {
   "cell_type": "markdown",
   "id": "c31413bf-99f0-4d8e-89f4-419b2362d312",
   "metadata": {},
   "source": [
    "### Configuration\n",
    "\n",
    "`Student: Misati`\n",
    "\n",
    "`Editor: Samuel`"
   ]
  },
  {
   "cell_type": "code",
   "execution_count": null,
   "id": "0c2a4d55-794d-4fba-99bf-f2b41cee7781",
   "metadata": {},
   "outputs": [],
   "source": [
    "# [Student: Misati] Setting global configuration variables\n",
    "# [Editor: Samuel] Set number of transactions to simulate\n",
    "MIN_SUP = 0.3\n",
    "MIN_CONF = 0.7\n",
    "SEED = 123\n",
    "NUM_TRANSACTIONS = 3000"
   ]
  },
  {
   "cell_type": "code",
   "execution_count": null,
   "id": "4ee0320a-bdd9-4803-ad3e-58ecbb7b74e3",
   "metadata": {},
   "outputs": [],
   "source": [
    "# [Editor: Samuel] Set a seed\n",
    "random.seed(SEED)"
   ]
  },
  {
   "cell_type": "markdown",
   "id": "bd554875-267e-4b5b-ae28-cbd532de5a2d",
   "metadata": {},
   "source": [
    "### Utility Functions\n",
    "\n",
    "`Student: Samuel`\n",
    "\n",
    "`Editor: Misati`"
   ]
  },
  {
   "cell_type": "code",
   "execution_count": null,
   "id": "f1a5dcd1-c348-4e5d-a62a-0468ad2cbc19",
   "metadata": {},
   "outputs": [],
   "source": [
    "# [Student: Samuel] Generate list of transactions\n",
    "# [Editor: Misati] Conversion to function\n",
    "\n",
    "def create_transactions(item_pool):\n",
    "    for _ in range(NUM_TRANSACTIONS):\n",
    "    # Randomly choose 2 to 7 items per transaction\n",
    "    num_items = random.randint(2, 7)\n",
    "    transaction = random.sample(item_pool, num_items)\n",
    "    transactions.append(transaction)"
   ]
  },
  {
   "cell_type": "markdown",
   "id": "6d2ccc2a-3d69-4d89-b6aa-de0431abf482",
   "metadata": {},
   "source": [
    "## Simulate Transaction Data\n",
    "\n",
    "`Student: Samuel`\n",
    "\n",
    "`Editor: Misati`"
   ]
  },
  {
   "cell_type": "code",
   "execution_count": 1,
   "id": "3672e966-c7a3-441b-9b44-ba99b9fd29f6",
   "metadata": {},
   "outputs": [
    {
     "data": {
      "application/vnd.microsoft.datawrangler.viewer.v0+json": {
       "columns": [
        {
         "name": "index",
         "rawType": "int64",
         "type": "integer"
        },
        {
         "name": "Transaction",
         "rawType": "object",
         "type": "unknown"
        }
       ],
       "ref": "606d1aad-0594-422f-a754-ac361486d321",
       "rows": [
        [
         "0",
         "['beef', 'eggs']"
        ],
        [
         "1",
         "['beef', 'butter', 'chocolate', 'soap', 'detergent']"
        ],
        [
         "2",
         "['salt', 'carrots']"
        ],
        [
         "3",
         "['pasta', 'toothpaste', 'detergent', 'bread', 'apples', 'cheese']"
        ],
        [
         "4",
         "['carrots', 'pasta', 'soda', 'chicken']"
        ]
       ],
       "shape": {
        "columns": 1,
        "rows": 5
       }
      },
      "text/html": [
       "<div>\n",
       "<style scoped>\n",
       "    .dataframe tbody tr th:only-of-type {\n",
       "        vertical-align: middle;\n",
       "    }\n",
       "\n",
       "    .dataframe tbody tr th {\n",
       "        vertical-align: top;\n",
       "    }\n",
       "\n",
       "    .dataframe thead th {\n",
       "        text-align: right;\n",
       "    }\n",
       "</style>\n",
       "<table border=\"1\" class=\"dataframe\">\n",
       "  <thead>\n",
       "    <tr style=\"text-align: right;\">\n",
       "      <th></th>\n",
       "      <th>Transaction</th>\n",
       "    </tr>\n",
       "  </thead>\n",
       "  <tbody>\n",
       "    <tr>\n",
       "      <th>0</th>\n",
       "      <td>[beef, eggs]</td>\n",
       "    </tr>\n",
       "    <tr>\n",
       "      <th>1</th>\n",
       "      <td>[beef, butter, chocolate, soap, detergent]</td>\n",
       "    </tr>\n",
       "    <tr>\n",
       "      <th>2</th>\n",
       "      <td>[salt, carrots]</td>\n",
       "    </tr>\n",
       "    <tr>\n",
       "      <th>3</th>\n",
       "      <td>[pasta, toothpaste, detergent, bread, apples, ...</td>\n",
       "    </tr>\n",
       "    <tr>\n",
       "      <th>4</th>\n",
       "      <td>[carrots, pasta, soda, chicken]</td>\n",
       "    </tr>\n",
       "  </tbody>\n",
       "</table>\n",
       "</div>"
      ],
      "text/plain": [
       "                                         Transaction\n",
       "0                                       [beef, eggs]\n",
       "1         [beef, butter, chocolate, soap, detergent]\n",
       "2                                    [salt, carrots]\n",
       "3  [pasta, toothpaste, detergent, bread, apples, ...\n",
       "4                    [carrots, pasta, soda, chicken]"
      ]
     },
     "execution_count": 1,
     "metadata": {},
     "output_type": "execute_result"
    }
   ],
   "source": [
    "# [Student: Samuel] Define a pool of 30 unique supermarket items\n",
    "item_pool = [\n",
    "    'milk', 'bread', 'eggs', 'butter', 'cheese', 'apples', 'bananas', 'chicken', 'beef', 'rice',\n",
    "    'pasta', 'sugar', 'salt', 'pepper', 'onions', 'tomatoes', 'lettuce', 'carrots', 'potatoes', 'cereal',\n",
    "    'yogurt', 'juice', 'soda', 'coffee', 'tea', 'biscuits', 'chocolate', 'detergent', 'soap', 'toothpaste'\n",
    "]"
   ]
  },
  {
   "cell_type": "code",
   "execution_count": null,
   "id": "55778711-f619-4619-92d0-d07d988da112",
   "metadata": {},
   "outputs": [],
   "source": [
    "# [Student: Samuel] Generate a list of transactions\n",
    "# [Editor: Misati] Using a utility function to generate transactions\n",
    "transactions = create_transactions(item_pool)"
   ]
  },
  {
   "cell_type": "code",
   "execution_count": null,
   "id": "e5542432-1bdc-4976-a168-1c40481c09c0",
   "metadata": {},
   "outputs": [],
   "source": [
    "# [Student: Samuel] Convert list of transactions into a DataFrame for saving\n",
    "df_transactions = pd.DataFrame({'Transaction': transactions})"
   ]
  },
  {
   "cell_type": "code",
   "execution_count": null,
   "id": "eb4e330c-280d-46da-92b4-f36e7d01381b",
   "metadata": {},
   "outputs": [],
   "source": [
    "# [Student: Samuel] Save simulated transactions to CSV\n",
    "df_transactions.to_csv('supermarket_transactions.csv', index=False)\n",
    "\n",
    "# [Student: Samuel] preview\n",
    "df_transactions.head()"
   ]
  },
  {
   "cell_type": "markdown",
   "id": "b0eac76d",
   "metadata": {},
   "source": [
    "## Preprocessing: One-Hot Encoding\n",
    "\n",
    "`Student: Ambachow`"
   ]
  },
  {
   "cell_type": "code",
   "execution_count": 6,
   "id": "e837b0d7",
   "metadata": {},
   "outputs": [],
   "source": [
    "# [Student: Ambachow] Load the dataset\n",
    "df_transactions = pd.read_csv('supermarket_transactions.csv')"
   ]
  },
  {
   "cell_type": "code",
   "execution_count": 7,
   "id": "eaa4b063",
   "metadata": {},
   "outputs": [
    {
     "data": {
      "application/vnd.microsoft.datawrangler.viewer.v0+json": {
       "columns": [
        {
         "name": "index",
         "rawType": "int64",
         "type": "integer"
        },
        {
         "name": "juice",
         "rawType": "int64",
         "type": "integer"
        },
        {
         "name": "bananas",
         "rawType": "int64",
         "type": "integer"
        },
        {
         "name": "apples",
         "rawType": "int64",
         "type": "integer"
        },
        {
         "name": "detergent",
         "rawType": "int64",
         "type": "integer"
        },
        {
         "name": "onions",
         "rawType": "int64",
         "type": "integer"
        },
        {
         "name": "tomatoes",
         "rawType": "int64",
         "type": "integer"
        },
        {
         "name": "yogurt",
         "rawType": "int64",
         "type": "integer"
        },
        {
         "name": "eggs",
         "rawType": "int64",
         "type": "integer"
        },
        {
         "name": "potatoes",
         "rawType": "int64",
         "type": "integer"
        },
        {
         "name": "biscuits",
         "rawType": "int64",
         "type": "integer"
        },
        {
         "name": "butter",
         "rawType": "int64",
         "type": "integer"
        },
        {
         "name": "chicken",
         "rawType": "int64",
         "type": "integer"
        },
        {
         "name": "chocolate",
         "rawType": "int64",
         "type": "integer"
        },
        {
         "name": "pepper",
         "rawType": "int64",
         "type": "integer"
        },
        {
         "name": "salt",
         "rawType": "int64",
         "type": "integer"
        },
        {
         "name": "coffee",
         "rawType": "int64",
         "type": "integer"
        },
        {
         "name": "toothpaste",
         "rawType": "int64",
         "type": "integer"
        },
        {
         "name": "milk",
         "rawType": "int64",
         "type": "integer"
        },
        {
         "name": "soap",
         "rawType": "int64",
         "type": "integer"
        },
        {
         "name": "carrots",
         "rawType": "int64",
         "type": "integer"
        },
        {
         "name": "cheese",
         "rawType": "int64",
         "type": "integer"
        },
        {
         "name": "soda",
         "rawType": "int64",
         "type": "integer"
        },
        {
         "name": "bread",
         "rawType": "int64",
         "type": "integer"
        },
        {
         "name": "rice",
         "rawType": "int64",
         "type": "integer"
        },
        {
         "name": "beef",
         "rawType": "int64",
         "type": "integer"
        },
        {
         "name": "pasta",
         "rawType": "int64",
         "type": "integer"
        },
        {
         "name": "cereal",
         "rawType": "int64",
         "type": "integer"
        },
        {
         "name": "lettuce",
         "rawType": "int64",
         "type": "integer"
        },
        {
         "name": "tea",
         "rawType": "int64",
         "type": "integer"
        },
        {
         "name": "sugar",
         "rawType": "int64",
         "type": "integer"
        }
       ],
       "ref": "bd0fc527-7633-4fea-8f58-887c85ade094",
       "rows": [
        [
         "0",
         "0",
         "0",
         "0",
         "0",
         "0",
         "0",
         "0",
         "1",
         "0",
         "0",
         "0",
         "0",
         "0",
         "0",
         "0",
         "0",
         "0",
         "0",
         "0",
         "0",
         "0",
         "0",
         "0",
         "0",
         "1",
         "0",
         "0",
         "0",
         "0",
         "0"
        ],
        [
         "1",
         "0",
         "0",
         "0",
         "1",
         "0",
         "0",
         "0",
         "0",
         "0",
         "0",
         "1",
         "0",
         "1",
         "0",
         "0",
         "0",
         "0",
         "0",
         "1",
         "0",
         "0",
         "0",
         "0",
         "0",
         "1",
         "0",
         "0",
         "0",
         "0",
         "0"
        ],
        [
         "2",
         "0",
         "0",
         "0",
         "0",
         "0",
         "0",
         "0",
         "0",
         "0",
         "0",
         "0",
         "0",
         "0",
         "0",
         "1",
         "0",
         "0",
         "0",
         "0",
         "1",
         "0",
         "0",
         "0",
         "0",
         "0",
         "0",
         "0",
         "0",
         "0",
         "0"
        ],
        [
         "3",
         "0",
         "0",
         "1",
         "1",
         "0",
         "0",
         "0",
         "0",
         "0",
         "0",
         "0",
         "0",
         "0",
         "0",
         "0",
         "0",
         "1",
         "0",
         "0",
         "0",
         "1",
         "0",
         "1",
         "0",
         "0",
         "1",
         "0",
         "0",
         "0",
         "0"
        ],
        [
         "4",
         "0",
         "0",
         "0",
         "0",
         "0",
         "0",
         "0",
         "0",
         "0",
         "0",
         "0",
         "1",
         "0",
         "0",
         "0",
         "0",
         "0",
         "0",
         "0",
         "1",
         "0",
         "1",
         "0",
         "0",
         "0",
         "1",
         "0",
         "0",
         "0",
         "0"
        ]
       ],
       "shape": {
        "columns": 30,
        "rows": 5
       }
      },
      "text/html": [
       "<div>\n",
       "<style scoped>\n",
       "    .dataframe tbody tr th:only-of-type {\n",
       "        vertical-align: middle;\n",
       "    }\n",
       "\n",
       "    .dataframe tbody tr th {\n",
       "        vertical-align: top;\n",
       "    }\n",
       "\n",
       "    .dataframe thead th {\n",
       "        text-align: right;\n",
       "    }\n",
       "</style>\n",
       "<table border=\"1\" class=\"dataframe\">\n",
       "  <thead>\n",
       "    <tr style=\"text-align: right;\">\n",
       "      <th></th>\n",
       "      <th>juice</th>\n",
       "      <th>bananas</th>\n",
       "      <th>apples</th>\n",
       "      <th>detergent</th>\n",
       "      <th>onions</th>\n",
       "      <th>tomatoes</th>\n",
       "      <th>yogurt</th>\n",
       "      <th>eggs</th>\n",
       "      <th>potatoes</th>\n",
       "      <th>biscuits</th>\n",
       "      <th>...</th>\n",
       "      <th>cheese</th>\n",
       "      <th>soda</th>\n",
       "      <th>bread</th>\n",
       "      <th>rice</th>\n",
       "      <th>beef</th>\n",
       "      <th>pasta</th>\n",
       "      <th>cereal</th>\n",
       "      <th>lettuce</th>\n",
       "      <th>tea</th>\n",
       "      <th>sugar</th>\n",
       "    </tr>\n",
       "  </thead>\n",
       "  <tbody>\n",
       "    <tr>\n",
       "      <th>0</th>\n",
       "      <td>0</td>\n",
       "      <td>0</td>\n",
       "      <td>0</td>\n",
       "      <td>0</td>\n",
       "      <td>0</td>\n",
       "      <td>0</td>\n",
       "      <td>0</td>\n",
       "      <td>1</td>\n",
       "      <td>0</td>\n",
       "      <td>0</td>\n",
       "      <td>...</td>\n",
       "      <td>0</td>\n",
       "      <td>0</td>\n",
       "      <td>0</td>\n",
       "      <td>0</td>\n",
       "      <td>1</td>\n",
       "      <td>0</td>\n",
       "      <td>0</td>\n",
       "      <td>0</td>\n",
       "      <td>0</td>\n",
       "      <td>0</td>\n",
       "    </tr>\n",
       "    <tr>\n",
       "      <th>1</th>\n",
       "      <td>0</td>\n",
       "      <td>0</td>\n",
       "      <td>0</td>\n",
       "      <td>1</td>\n",
       "      <td>0</td>\n",
       "      <td>0</td>\n",
       "      <td>0</td>\n",
       "      <td>0</td>\n",
       "      <td>0</td>\n",
       "      <td>0</td>\n",
       "      <td>...</td>\n",
       "      <td>0</td>\n",
       "      <td>0</td>\n",
       "      <td>0</td>\n",
       "      <td>0</td>\n",
       "      <td>1</td>\n",
       "      <td>0</td>\n",
       "      <td>0</td>\n",
       "      <td>0</td>\n",
       "      <td>0</td>\n",
       "      <td>0</td>\n",
       "    </tr>\n",
       "    <tr>\n",
       "      <th>2</th>\n",
       "      <td>0</td>\n",
       "      <td>0</td>\n",
       "      <td>0</td>\n",
       "      <td>0</td>\n",
       "      <td>0</td>\n",
       "      <td>0</td>\n",
       "      <td>0</td>\n",
       "      <td>0</td>\n",
       "      <td>0</td>\n",
       "      <td>0</td>\n",
       "      <td>...</td>\n",
       "      <td>0</td>\n",
       "      <td>0</td>\n",
       "      <td>0</td>\n",
       "      <td>0</td>\n",
       "      <td>0</td>\n",
       "      <td>0</td>\n",
       "      <td>0</td>\n",
       "      <td>0</td>\n",
       "      <td>0</td>\n",
       "      <td>0</td>\n",
       "    </tr>\n",
       "    <tr>\n",
       "      <th>3</th>\n",
       "      <td>0</td>\n",
       "      <td>0</td>\n",
       "      <td>1</td>\n",
       "      <td>1</td>\n",
       "      <td>0</td>\n",
       "      <td>0</td>\n",
       "      <td>0</td>\n",
       "      <td>0</td>\n",
       "      <td>0</td>\n",
       "      <td>0</td>\n",
       "      <td>...</td>\n",
       "      <td>1</td>\n",
       "      <td>0</td>\n",
       "      <td>1</td>\n",
       "      <td>0</td>\n",
       "      <td>0</td>\n",
       "      <td>1</td>\n",
       "      <td>0</td>\n",
       "      <td>0</td>\n",
       "      <td>0</td>\n",
       "      <td>0</td>\n",
       "    </tr>\n",
       "    <tr>\n",
       "      <th>4</th>\n",
       "      <td>0</td>\n",
       "      <td>0</td>\n",
       "      <td>0</td>\n",
       "      <td>0</td>\n",
       "      <td>0</td>\n",
       "      <td>0</td>\n",
       "      <td>0</td>\n",
       "      <td>0</td>\n",
       "      <td>0</td>\n",
       "      <td>0</td>\n",
       "      <td>...</td>\n",
       "      <td>0</td>\n",
       "      <td>1</td>\n",
       "      <td>0</td>\n",
       "      <td>0</td>\n",
       "      <td>0</td>\n",
       "      <td>1</td>\n",
       "      <td>0</td>\n",
       "      <td>0</td>\n",
       "      <td>0</td>\n",
       "      <td>0</td>\n",
       "    </tr>\n",
       "  </tbody>\n",
       "</table>\n",
       "<p>5 rows × 30 columns</p>\n",
       "</div>"
      ],
      "text/plain": [
       "   juice  bananas  apples  detergent  onions  tomatoes  yogurt  eggs  \\\n",
       "0      0        0       0          0       0         0       0     1   \n",
       "1      0        0       0          1       0         0       0     0   \n",
       "2      0        0       0          0       0         0       0     0   \n",
       "3      0        0       1          1       0         0       0     0   \n",
       "4      0        0       0          0       0         0       0     0   \n",
       "\n",
       "   potatoes  biscuits  ...  cheese  soda  bread  rice  beef  pasta  cereal  \\\n",
       "0         0         0  ...       0     0      0     0     1      0       0   \n",
       "1         0         0  ...       0     0      0     0     1      0       0   \n",
       "2         0         0  ...       0     0      0     0     0      0       0   \n",
       "3         0         0  ...       1     0      1     0     0      1       0   \n",
       "4         0         0  ...       0     1      0     0     0      1       0   \n",
       "\n",
       "   lettuce  tea  sugar  \n",
       "0        0    0      0  \n",
       "1        0    0      0  \n",
       "2        0    0      0  \n",
       "3        0    0      0  \n",
       "4        0    0      0  \n",
       "\n",
       "[5 rows x 30 columns]"
      ]
     },
     "execution_count": 7,
     "metadata": {},
     "output_type": "execute_result"
    }
   ],
   "source": [
    "# [Student: Ambachow] Create a set of all unique items across all transactions\n",
    "unique_items = list(set(item for transaction in df_transactions['Transaction'] for item in eval(transaction)))\n",
    "\n",
    "# [Student: Ambachow] Create a DataFrame for one-hot encoding\n",
    "df_one_hot = pd.DataFrame(0, index=range(len(df_transactions)), columns=unique_items)\n",
    "\n",
    "# [Student: Ambachow] Populate the one-hot DataFrame\n",
    "for idx, transaction in enumerate(df_transactions['Transaction']):\n",
    "    items = eval(transaction)  # Convert string representation of list to actual list\n",
    "    for item in items:\n",
    "        df_one_hot.loc[idx, item] = 1"
   ]
  },
  {
   "cell_type": "code",
   "execution_count": null,
   "id": "a7d7699c-c839-4445-a542-540584a66d96",
   "metadata": {},
   "outputs": [],
   "source": [
    "# [Student: Ambachow] Preview the one-hot encoded DataFrame\n",
    "df_one_hot.head()"
   ]
  },
  {
   "cell_type": "markdown",
   "id": "010d1d08",
   "metadata": {},
   "source": [
    "### Save One-Hot Encoded Dataframe"
   ]
  },
  {
   "cell_type": "code",
   "execution_count": null,
   "id": "17b489ca",
   "metadata": {},
   "outputs": [],
   "source": [
    "df_one_hot.to_csv('supermarket_one_hot_encoded.csv', index=False)"
   ]
  },
  {
   "cell_type": "markdown",
   "id": "4c726fb0-d479-4a25-b350-eb1fb2335382",
   "metadata": {},
   "source": [
    "## Generate Frequent Itemsets\n",
    "\n",
    "`Student: Paul`"
   ]
  },
  {
   "cell_type": "markdown",
   "id": "b0aee28c-7c5f-4987-bfe4-600d394ad875",
   "metadata": {},
   "source": [
    "## Identify Closed Frequent Itemsets\n",
    "\n",
    "`Student: Misati`"
   ]
  },
  {
   "cell_type": "markdown",
   "id": "eb6fd8e6-7e1f-4a77-a388-5bc4bdb810e0",
   "metadata": {},
   "source": [
    "## Identify Maximal Frequent Itemsets\n",
    "\n",
    "`Student: Chawanda`"
   ]
  },
  {
   "cell_type": "markdown",
   "id": "3cf49640-7384-4d4a-ac64-4a478d8cd848",
   "metadata": {},
   "source": [
    "## Submission Files\n",
    "\n",
    "`Student: Gathogo`"
   ]
  }
 ],
 "metadata": {
  "kernelspec": {
   "display_name": "Python 3 (ipykernel)",
   "language": "python",
   "name": "python3"
  },
  "language_info": {
   "codemirror_mode": {
    "name": "ipython",
    "version": 3
   },
   "file_extension": ".py",
   "mimetype": "text/x-python",
   "name": "python",
   "nbconvert_exporter": "python",
   "pygments_lexer": "ipython3",
   "version": "3.12.3"
  }
 },
 "nbformat": 4,
 "nbformat_minor": 5
}
