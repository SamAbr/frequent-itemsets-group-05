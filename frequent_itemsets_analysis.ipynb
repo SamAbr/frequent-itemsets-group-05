{
 "cells": [
  {
   "cell_type": "code",
   "execution_count": 1,
   "id": "3672e966-c7a3-441b-9b44-ba99b9fd29f6",
   "metadata": {},
   "outputs": [
    {
     "data": {
      "application/vnd.microsoft.datawrangler.viewer.v0+json": {
       "columns": [
        {
         "name": "index",
         "rawType": "int64",
         "type": "integer"
        },
        {
         "name": "Transaction",
         "rawType": "object",
         "type": "unknown"
        }
       ],
       "ref": "606d1aad-0594-422f-a754-ac361486d321",
       "rows": [
        [
         "0",
         "['beef', 'eggs']"
        ],
        [
         "1",
         "['beef', 'butter', 'chocolate', 'soap', 'detergent']"
        ],
        [
         "2",
         "['salt', 'carrots']"
        ],
        [
         "3",
         "['pasta', 'toothpaste', 'detergent', 'bread', 'apples', 'cheese']"
        ],
        [
         "4",
         "['carrots', 'pasta', 'soda', 'chicken']"
        ]
       ],
       "shape": {
        "columns": 1,
        "rows": 5
       }
      },
      "text/html": [
       "<div>\n",
       "<style scoped>\n",
       "    .dataframe tbody tr th:only-of-type {\n",
       "        vertical-align: middle;\n",
       "    }\n",
       "\n",
       "    .dataframe tbody tr th {\n",
       "        vertical-align: top;\n",
       "    }\n",
       "\n",
       "    .dataframe thead th {\n",
       "        text-align: right;\n",
       "    }\n",
       "</style>\n",
       "<table border=\"1\" class=\"dataframe\">\n",
       "  <thead>\n",
       "    <tr style=\"text-align: right;\">\n",
       "      <th></th>\n",
       "      <th>Transaction</th>\n",
       "    </tr>\n",
       "  </thead>\n",
       "  <tbody>\n",
       "    <tr>\n",
       "      <th>0</th>\n",
       "      <td>[beef, eggs]</td>\n",
       "    </tr>\n",
       "    <tr>\n",
       "      <th>1</th>\n",
       "      <td>[beef, butter, chocolate, soap, detergent]</td>\n",
       "    </tr>\n",
       "    <tr>\n",
       "      <th>2</th>\n",
       "      <td>[salt, carrots]</td>\n",
       "    </tr>\n",
       "    <tr>\n",
       "      <th>3</th>\n",
       "      <td>[pasta, toothpaste, detergent, bread, apples, ...</td>\n",
       "    </tr>\n",
       "    <tr>\n",
       "      <th>4</th>\n",
       "      <td>[carrots, pasta, soda, chicken]</td>\n",
       "    </tr>\n",
       "  </tbody>\n",
       "</table>\n",
       "</div>"
      ],
      "text/plain": [
       "                                         Transaction\n",
       "0                                       [beef, eggs]\n",
       "1         [beef, butter, chocolate, soap, detergent]\n",
       "2                                    [salt, carrots]\n",
       "3  [pasta, toothpaste, detergent, bread, apples, ...\n",
       "4                    [carrots, pasta, soda, chicken]"
      ]
     },
     "execution_count": 1,
     "metadata": {},
     "output_type": "execute_result"
    }
   ],
   "source": [
    "# [Student: Samuel] Import necessary libraries\n",
    "import pandas as pd\n",
    "import random\n",
    "\n",
    "# [Student: Samuel] Set a seed\n",
    "random.seed(123)\n",
    "\n",
    "# [Student: Samuel] Define a pool of 30 unique supermarket items\n",
    "item_pool = [\n",
    "    'milk', 'bread', 'eggs', 'butter', 'cheese', 'apples', 'bananas', 'chicken', 'beef', 'rice',\n",
    "    'pasta', 'sugar', 'salt', 'pepper', 'onions', 'tomatoes', 'lettuce', 'carrots', 'potatoes', 'cereal',\n",
    "    'yogurt', 'juice', 'soda', 'coffee', 'tea', 'biscuits', 'chocolate', 'detergent', 'soap', 'toothpaste'\n",
    "]\n",
    "\n",
    "# [Student: Samuel] Set number of transactions to simulate\n",
    "num_transactions = 3000\n",
    "\n",
    "# [Student: Samuel] Generate a list of transactions\n",
    "transactions = []\n",
    "for _ in range(num_transactions):\n",
    "    # Randomly choose 2 to 7 items per transaction\n",
    "    num_items = random.randint(2, 7)\n",
    "    transaction = random.sample(item_pool, num_items)\n",
    "    transactions.append(transaction)\n",
    "\n",
    "# [Student: Samuel] Convert list of transactions into a DataFrame for saving\n",
    "df_transactions = pd.DataFrame({'Transaction': transactions})\n",
    "\n",
    "# [Student: Samuel] Save simulated transactions to CSV\n",
    "df_transactions.to_csv('supermarket_transactions.csv', index=False)\n",
    "\n",
    "# [Student: Samuel] preview\n",
    "df_transactions.head()"
   ]
  },
  {
   "cell_type": "markdown",
   "id": "b0eac76d",
   "metadata": {},
   "source": [
    "### onehot Encoding"
   ]
  },
  {
   "cell_type": "code",
   "execution_count": 6,
   "id": "e837b0d7",
   "metadata": {},
   "outputs": [],
   "source": [
    "# Load the dataset\n",
    "df_transactions = pd.read_csv('supermarket_transactions.csv')"
   ]
  },
  {
   "cell_type": "code",
   "execution_count": 7,
   "id": "eaa4b063",
   "metadata": {},
   "outputs": [
    {
     "data": {
      "application/vnd.microsoft.datawrangler.viewer.v0+json": {
       "columns": [
        {
         "name": "index",
         "rawType": "int64",
         "type": "integer"
        },
        {
         "name": "juice",
         "rawType": "int64",
         "type": "integer"
        },
        {
         "name": "bananas",
         "rawType": "int64",
         "type": "integer"
        },
        {
         "name": "apples",
         "rawType": "int64",
         "type": "integer"
        },
        {
         "name": "detergent",
         "rawType": "int64",
         "type": "integer"
        },
        {
         "name": "onions",
         "rawType": "int64",
         "type": "integer"
        },
        {
         "name": "tomatoes",
         "rawType": "int64",
         "type": "integer"
        },
        {
         "name": "yogurt",
         "rawType": "int64",
         "type": "integer"
        },
        {
         "name": "eggs",
         "rawType": "int64",
         "type": "integer"
        },
        {
         "name": "potatoes",
         "rawType": "int64",
         "type": "integer"
        },
        {
         "name": "biscuits",
         "rawType": "int64",
         "type": "integer"
        },
        {
         "name": "butter",
         "rawType": "int64",
         "type": "integer"
        },
        {
         "name": "chicken",
         "rawType": "int64",
         "type": "integer"
        },
        {
         "name": "chocolate",
         "rawType": "int64",
         "type": "integer"
        },
        {
         "name": "pepper",
         "rawType": "int64",
         "type": "integer"
        },
        {
         "name": "salt",
         "rawType": "int64",
         "type": "integer"
        },
        {
         "name": "coffee",
         "rawType": "int64",
         "type": "integer"
        },
        {
         "name": "toothpaste",
         "rawType": "int64",
         "type": "integer"
        },
        {
         "name": "milk",
         "rawType": "int64",
         "type": "integer"
        },
        {
         "name": "soap",
         "rawType": "int64",
         "type": "integer"
        },
        {
         "name": "carrots",
         "rawType": "int64",
         "type": "integer"
        },
        {
         "name": "cheese",
         "rawType": "int64",
         "type": "integer"
        },
        {
         "name": "soda",
         "rawType": "int64",
         "type": "integer"
        },
        {
         "name": "bread",
         "rawType": "int64",
         "type": "integer"
        },
        {
         "name": "rice",
         "rawType": "int64",
         "type": "integer"
        },
        {
         "name": "beef",
         "rawType": "int64",
         "type": "integer"
        },
        {
         "name": "pasta",
         "rawType": "int64",
         "type": "integer"
        },
        {
         "name": "cereal",
         "rawType": "int64",
         "type": "integer"
        },
        {
         "name": "lettuce",
         "rawType": "int64",
         "type": "integer"
        },
        {
         "name": "tea",
         "rawType": "int64",
         "type": "integer"
        },
        {
         "name": "sugar",
         "rawType": "int64",
         "type": "integer"
        }
       ],
       "ref": "bd0fc527-7633-4fea-8f58-887c85ade094",
       "rows": [
        [
         "0",
         "0",
         "0",
         "0",
         "0",
         "0",
         "0",
         "0",
         "1",
         "0",
         "0",
         "0",
         "0",
         "0",
         "0",
         "0",
         "0",
         "0",
         "0",
         "0",
         "0",
         "0",
         "0",
         "0",
         "0",
         "1",
         "0",
         "0",
         "0",
         "0",
         "0"
        ],
        [
         "1",
         "0",
         "0",
         "0",
         "1",
         "0",
         "0",
         "0",
         "0",
         "0",
         "0",
         "1",
         "0",
         "1",
         "0",
         "0",
         "0",
         "0",
         "0",
         "1",
         "0",
         "0",
         "0",
         "0",
         "0",
         "1",
         "0",
         "0",
         "0",
         "0",
         "0"
        ],
        [
         "2",
         "0",
         "0",
         "0",
         "0",
         "0",
         "0",
         "0",
         "0",
         "0",
         "0",
         "0",
         "0",
         "0",
         "0",
         "1",
         "0",
         "0",
         "0",
         "0",
         "1",
         "0",
         "0",
         "0",
         "0",
         "0",
         "0",
         "0",
         "0",
         "0",
         "0"
        ],
        [
         "3",
         "0",
         "0",
         "1",
         "1",
         "0",
         "0",
         "0",
         "0",
         "0",
         "0",
         "0",
         "0",
         "0",
         "0",
         "0",
         "0",
         "1",
         "0",
         "0",
         "0",
         "1",
         "0",
         "1",
         "0",
         "0",
         "1",
         "0",
         "0",
         "0",
         "0"
        ],
        [
         "4",
         "0",
         "0",
         "0",
         "0",
         "0",
         "0",
         "0",
         "0",
         "0",
         "0",
         "0",
         "1",
         "0",
         "0",
         "0",
         "0",
         "0",
         "0",
         "0",
         "1",
         "0",
         "1",
         "0",
         "0",
         "0",
         "1",
         "0",
         "0",
         "0",
         "0"
        ]
       ],
       "shape": {
        "columns": 30,
        "rows": 5
       }
      },
      "text/html": [
       "<div>\n",
       "<style scoped>\n",
       "    .dataframe tbody tr th:only-of-type {\n",
       "        vertical-align: middle;\n",
       "    }\n",
       "\n",
       "    .dataframe tbody tr th {\n",
       "        vertical-align: top;\n",
       "    }\n",
       "\n",
       "    .dataframe thead th {\n",
       "        text-align: right;\n",
       "    }\n",
       "</style>\n",
       "<table border=\"1\" class=\"dataframe\">\n",
       "  <thead>\n",
       "    <tr style=\"text-align: right;\">\n",
       "      <th></th>\n",
       "      <th>juice</th>\n",
       "      <th>bananas</th>\n",
       "      <th>apples</th>\n",
       "      <th>detergent</th>\n",
       "      <th>onions</th>\n",
       "      <th>tomatoes</th>\n",
       "      <th>yogurt</th>\n",
       "      <th>eggs</th>\n",
       "      <th>potatoes</th>\n",
       "      <th>biscuits</th>\n",
       "      <th>...</th>\n",
       "      <th>cheese</th>\n",
       "      <th>soda</th>\n",
       "      <th>bread</th>\n",
       "      <th>rice</th>\n",
       "      <th>beef</th>\n",
       "      <th>pasta</th>\n",
       "      <th>cereal</th>\n",
       "      <th>lettuce</th>\n",
       "      <th>tea</th>\n",
       "      <th>sugar</th>\n",
       "    </tr>\n",
       "  </thead>\n",
       "  <tbody>\n",
       "    <tr>\n",
       "      <th>0</th>\n",
       "      <td>0</td>\n",
       "      <td>0</td>\n",
       "      <td>0</td>\n",
       "      <td>0</td>\n",
       "      <td>0</td>\n",
       "      <td>0</td>\n",
       "      <td>0</td>\n",
       "      <td>1</td>\n",
       "      <td>0</td>\n",
       "      <td>0</td>\n",
       "      <td>...</td>\n",
       "      <td>0</td>\n",
       "      <td>0</td>\n",
       "      <td>0</td>\n",
       "      <td>0</td>\n",
       "      <td>1</td>\n",
       "      <td>0</td>\n",
       "      <td>0</td>\n",
       "      <td>0</td>\n",
       "      <td>0</td>\n",
       "      <td>0</td>\n",
       "    </tr>\n",
       "    <tr>\n",
       "      <th>1</th>\n",
       "      <td>0</td>\n",
       "      <td>0</td>\n",
       "      <td>0</td>\n",
       "      <td>1</td>\n",
       "      <td>0</td>\n",
       "      <td>0</td>\n",
       "      <td>0</td>\n",
       "      <td>0</td>\n",
       "      <td>0</td>\n",
       "      <td>0</td>\n",
       "      <td>...</td>\n",
       "      <td>0</td>\n",
       "      <td>0</td>\n",
       "      <td>0</td>\n",
       "      <td>0</td>\n",
       "      <td>1</td>\n",
       "      <td>0</td>\n",
       "      <td>0</td>\n",
       "      <td>0</td>\n",
       "      <td>0</td>\n",
       "      <td>0</td>\n",
       "    </tr>\n",
       "    <tr>\n",
       "      <th>2</th>\n",
       "      <td>0</td>\n",
       "      <td>0</td>\n",
       "      <td>0</td>\n",
       "      <td>0</td>\n",
       "      <td>0</td>\n",
       "      <td>0</td>\n",
       "      <td>0</td>\n",
       "      <td>0</td>\n",
       "      <td>0</td>\n",
       "      <td>0</td>\n",
       "      <td>...</td>\n",
       "      <td>0</td>\n",
       "      <td>0</td>\n",
       "      <td>0</td>\n",
       "      <td>0</td>\n",
       "      <td>0</td>\n",
       "      <td>0</td>\n",
       "      <td>0</td>\n",
       "      <td>0</td>\n",
       "      <td>0</td>\n",
       "      <td>0</td>\n",
       "    </tr>\n",
       "    <tr>\n",
       "      <th>3</th>\n",
       "      <td>0</td>\n",
       "      <td>0</td>\n",
       "      <td>1</td>\n",
       "      <td>1</td>\n",
       "      <td>0</td>\n",
       "      <td>0</td>\n",
       "      <td>0</td>\n",
       "      <td>0</td>\n",
       "      <td>0</td>\n",
       "      <td>0</td>\n",
       "      <td>...</td>\n",
       "      <td>1</td>\n",
       "      <td>0</td>\n",
       "      <td>1</td>\n",
       "      <td>0</td>\n",
       "      <td>0</td>\n",
       "      <td>1</td>\n",
       "      <td>0</td>\n",
       "      <td>0</td>\n",
       "      <td>0</td>\n",
       "      <td>0</td>\n",
       "    </tr>\n",
       "    <tr>\n",
       "      <th>4</th>\n",
       "      <td>0</td>\n",
       "      <td>0</td>\n",
       "      <td>0</td>\n",
       "      <td>0</td>\n",
       "      <td>0</td>\n",
       "      <td>0</td>\n",
       "      <td>0</td>\n",
       "      <td>0</td>\n",
       "      <td>0</td>\n",
       "      <td>0</td>\n",
       "      <td>...</td>\n",
       "      <td>0</td>\n",
       "      <td>1</td>\n",
       "      <td>0</td>\n",
       "      <td>0</td>\n",
       "      <td>0</td>\n",
       "      <td>1</td>\n",
       "      <td>0</td>\n",
       "      <td>0</td>\n",
       "      <td>0</td>\n",
       "      <td>0</td>\n",
       "    </tr>\n",
       "  </tbody>\n",
       "</table>\n",
       "<p>5 rows × 30 columns</p>\n",
       "</div>"
      ],
      "text/plain": [
       "   juice  bananas  apples  detergent  onions  tomatoes  yogurt  eggs  \\\n",
       "0      0        0       0          0       0         0       0     1   \n",
       "1      0        0       0          1       0         0       0     0   \n",
       "2      0        0       0          0       0         0       0     0   \n",
       "3      0        0       1          1       0         0       0     0   \n",
       "4      0        0       0          0       0         0       0     0   \n",
       "\n",
       "   potatoes  biscuits  ...  cheese  soda  bread  rice  beef  pasta  cereal  \\\n",
       "0         0         0  ...       0     0      0     0     1      0       0   \n",
       "1         0         0  ...       0     0      0     0     1      0       0   \n",
       "2         0         0  ...       0     0      0     0     0      0       0   \n",
       "3         0         0  ...       1     0      1     0     0      1       0   \n",
       "4         0         0  ...       0     1      0     0     0      1       0   \n",
       "\n",
       "   lettuce  tea  sugar  \n",
       "0        0    0      0  \n",
       "1        0    0      0  \n",
       "2        0    0      0  \n",
       "3        0    0      0  \n",
       "4        0    0      0  \n",
       "\n",
       "[5 rows x 30 columns]"
      ]
     },
     "execution_count": 7,
     "metadata": {},
     "output_type": "execute_result"
    }
   ],
   "source": [
    "\n",
    "# Create a set of all unique items across all transactions\n",
    "unique_items = list(set(item for transaction in df_transactions['Transaction'] for item in eval(transaction)))\n",
    "\n",
    "# Create a DataFrame for one-hot encoding\n",
    "df_one_hot = pd.DataFrame(0, index=range(len(df_transactions)), columns=unique_items)\n",
    "\n",
    "# Populate the one-hot DataFrame\n",
    "for idx, transaction in enumerate(df_transactions['Transaction']):\n",
    "    items = eval(transaction)  # Convert string representation of list to actual list\n",
    "    for item in items:\n",
    "        df_one_hot.loc[idx, item] = 1\n",
    "\n",
    "# Preview the one-hot encoded DataFrame\n",
    "df_one_hot.head()\n"
   ]
  },
  {
   "cell_type": "markdown",
   "id": "010d1d08",
   "metadata": {},
   "source": [
    "#### Save Onehot encoded df"
   ]
  },
  {
   "cell_type": "code",
   "execution_count": 5,
   "id": "17b489ca",
   "metadata": {},
   "outputs": [],
   "source": [
    "# Save the one-hot encoded DataFrame to a CSV\n",
    "df_one_hot.to_csv('supermarket_one_hot_encoded.csv', index=False)\n"
   ]
  }
 ],
 "metadata": {
  "kernelspec": {
   "display_name": "Python 3",
   "language": "python",
   "name": "python3"
  },
  "language_info": {
   "codemirror_mode": {
    "name": "ipython",
    "version": 3
   },
   "file_extension": ".py",
   "mimetype": "text/x-python",
   "name": "python",
   "nbconvert_exporter": "python",
   "pygments_lexer": "ipython3",
   "version": "3.11.8"
  }
 },
 "nbformat": 4,
 "nbformat_minor": 5
}
