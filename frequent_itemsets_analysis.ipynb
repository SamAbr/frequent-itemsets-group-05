{
 "cells": [
  {
   "cell_type": "markdown",
   "id": "beb1b705-d760-49f9-babe-497e34ba3a1a",
   "metadata": {},
   "source": [
    "# Notion of Maximality and Closedness"
   ]
  },
  {
   "cell_type": "markdown",
   "id": "fe7d6d13-4f39-4a5f-ad88-e4853fe6b7c2",
   "metadata": {},
   "source": [
    "## Preamble"
   ]
  },
  {
   "cell_type": "markdown",
   "id": "092c0006-c323-4e51-978d-2a82300b260c",
   "metadata": {},
   "source": [
    "### Modules\n",
    "\n",
    "`Student: Misati`\n",
    "\n",
    "`Editor: Samuel`"
   ]
  },
  {
   "cell_type": "code",
   "execution_count": 131,
   "id": "55ab288e-a7b0-492a-9cdc-6e44ff060dd5",
   "metadata": {},
   "outputs": [],
   "source": [
    "# [Student: Misati] Importing data mining libraries\n",
    "# [Editor: Samuel] Import necessary libraries\n",
    "import pandas as pd\n",
    "import itertools\n",
    "import random\n",
    "from mlxtend.frequent_patterns import apriori, association_rules\n",
    "from collections import defaultdict"
   ]
  },
  {
   "cell_type": "markdown",
   "id": "c31413bf-99f0-4d8e-89f4-419b2362d312",
   "metadata": {},
   "source": [
    "### Configuration\n",
    "\n",
    "`Student: Misati`\n",
    "\n",
    "`Editor: Samuel`"
   ]
  },
  {
   "cell_type": "code",
   "execution_count": 132,
   "id": "0c2a4d55-794d-4fba-99bf-f2b41cee7781",
   "metadata": {},
   "outputs": [],
   "source": [
    "# [Student: Misati] Setting global configuration variables\n",
    "# [Editor: Samuel] Set number of transactions to simulate\n",
    "MIN_SUP = 0.05\n",
    "SEED = 123\n",
    "NUM_TRANSACTIONS = 3000"
   ]
  },
  {
   "cell_type": "code",
   "execution_count": 133,
   "id": "4ee0320a-bdd9-4803-ad3e-58ecbb7b74e3",
   "metadata": {},
   "outputs": [],
   "source": [
    "# [Editor: Samuel] Set a seed\n",
    "random.seed(SEED)"
   ]
  },
  {
   "cell_type": "markdown",
   "id": "bd554875-267e-4b5b-ae28-cbd532de5a2d",
   "metadata": {},
   "source": [
    "### Utility Functions\n",
    "\n",
    "`Student: Samuel`\n",
    "\n",
    "`Editor: Misati`"
   ]
  },
  {
   "cell_type": "code",
   "execution_count": 134,
   "id": "f1a5dcd1-c348-4e5d-a62a-0468ad2cbc19",
   "metadata": {},
   "outputs": [],
   "source": [
    "# [Student: Samuel] Generate list of transactions\n",
    "# [Editor: Misati] Conversion to function\n",
    "def create_transactions(item_pool):\n",
    "    transactions = []\n",
    "    for _ in range(NUM_TRANSACTIONS):\n",
    "        # Randomly choose 2 to 7 items per transaction\n",
    "        num_items = random.randint(2, 7)\n",
    "        transaction = random.sample(item_pool, num_items)\n",
    "        transactions.append(transaction)\n",
    "    return transactions"
   ]
  },
  {
   "cell_type": "markdown",
   "id": "6d2ccc2a-3d69-4d89-b6aa-de0431abf482",
   "metadata": {},
   "source": [
    "## Simulate Transaction Data\n",
    "\n",
    "`Student: Samuel`\n",
    "\n",
    "`Editor: Misati`"
   ]
  },
  {
   "cell_type": "code",
   "execution_count": 135,
   "id": "3672e966-c7a3-441b-9b44-ba99b9fd29f6",
   "metadata": {},
   "outputs": [],
   "source": [
    "# [Student: Samuel] Define a pool of 30 unique supermarket items\n",
    "item_pool = [\n",
    "    'milk', 'bread', 'eggs', 'butter', 'cheese', 'apples', 'bananas', 'chicken', 'beef', 'rice',\n",
    "    'pasta', 'sugar', 'salt', 'pepper', 'onions', 'tomatoes', 'lettuce', 'carrots', 'potatoes', 'cereal',\n",
    "    'yogurt', 'juice', 'soda', 'coffee', 'tea', 'biscuits', 'chocolate', 'detergent', 'soap', 'toothpaste'\n",
    "]"
   ]
  },
  {
   "cell_type": "code",
   "execution_count": 136,
   "id": "55778711-f619-4619-92d0-d07d988da112",
   "metadata": {},
   "outputs": [],
   "source": [
    "# [Student: Samuel] Generate a list of transactions\n",
    "# [Editor: Misati] Using a utility function to generate transactions\n",
    "transactions = create_transactions(item_pool)"
   ]
  },
  {
   "cell_type": "code",
   "execution_count": 137,
   "id": "e5542432-1bdc-4976-a168-1c40481c09c0",
   "metadata": {},
   "outputs": [],
   "source": [
    "# [Student: Samuel] Convert list of transactions into a DataFrame for saving\n",
    "df_transactions = pd.DataFrame({'Transaction': transactions})"
   ]
  },
  {
   "cell_type": "code",
   "execution_count": 138,
   "id": "eb4e330c-280d-46da-92b4-f36e7d01381b",
   "metadata": {},
   "outputs": [
    {
     "data": {
      "text/html": [
       "<div>\n",
       "<style scoped>\n",
       "    .dataframe tbody tr th:only-of-type {\n",
       "        vertical-align: middle;\n",
       "    }\n",
       "\n",
       "    .dataframe tbody tr th {\n",
       "        vertical-align: top;\n",
       "    }\n",
       "\n",
       "    .dataframe thead th {\n",
       "        text-align: right;\n",
       "    }\n",
       "</style>\n",
       "<table border=\"1\" class=\"dataframe\">\n",
       "  <thead>\n",
       "    <tr style=\"text-align: right;\">\n",
       "      <th></th>\n",
       "      <th>Transaction</th>\n",
       "    </tr>\n",
       "  </thead>\n",
       "  <tbody>\n",
       "    <tr>\n",
       "      <th>0</th>\n",
       "      <td>[beef, eggs]</td>\n",
       "    </tr>\n",
       "    <tr>\n",
       "      <th>1</th>\n",
       "      <td>[beef, butter, chocolate, soap, detergent]</td>\n",
       "    </tr>\n",
       "    <tr>\n",
       "      <th>2</th>\n",
       "      <td>[salt, carrots]</td>\n",
       "    </tr>\n",
       "    <tr>\n",
       "      <th>3</th>\n",
       "      <td>[pasta, toothpaste, detergent, bread, apples, ...</td>\n",
       "    </tr>\n",
       "    <tr>\n",
       "      <th>4</th>\n",
       "      <td>[carrots, pasta, soda, chicken]</td>\n",
       "    </tr>\n",
       "  </tbody>\n",
       "</table>\n",
       "</div>"
      ],
      "text/plain": [
       "                                         Transaction\n",
       "0                                       [beef, eggs]\n",
       "1         [beef, butter, chocolate, soap, detergent]\n",
       "2                                    [salt, carrots]\n",
       "3  [pasta, toothpaste, detergent, bread, apples, ...\n",
       "4                    [carrots, pasta, soda, chicken]"
      ]
     },
     "execution_count": 138,
     "metadata": {},
     "output_type": "execute_result"
    }
   ],
   "source": [
    "# [Student: Samuel] Save simulated transactions to CSV\n",
    "df_transactions.to_csv('supermarket_transactions.csv', index=False)\n",
    "\n",
    "# [Student: Samuel] preview\n",
    "df_transactions.head()"
   ]
  },
  {
   "cell_type": "markdown",
   "id": "b0eac76d",
   "metadata": {},
   "source": [
    "## Preprocessing: One-Hot Encoding\n",
    "\n",
    "`Student: Ambachow`\n",
    "\n",
    "`Editor: Misati`"
   ]
  },
  {
   "cell_type": "code",
   "execution_count": 139,
   "id": "e837b0d7",
   "metadata": {},
   "outputs": [],
   "source": [
    "# [Student: Ambachow] Load the dataset\n",
    "df_transactions = pd.read_csv('supermarket_transactions.csv')"
   ]
  },
  {
   "cell_type": "code",
   "execution_count": 140,
   "id": "eaa4b063",
   "metadata": {},
   "outputs": [],
   "source": [
    "# [Student: Ambachow] Create a set of all unique items across all transactions\n",
    "unique_items = list(set(item for transaction in df_transactions['Transaction'] for item in eval(transaction)))\n",
    "\n",
    "# [Student: Ambachow] Create a DataFrame for one-hot encoding\n",
    "# [Editor: Misati] Using booleans for faster inference\n",
    "df_one_hot = pd.DataFrame(False, index=range(len(df_transactions)), columns=unique_items)\n",
    "\n",
    "# [Student: Ambachow] Populate the one-hot DataFrame\n",
    "# [Editor: Misati] Using booleans for faster inference\n",
    "for idx, transaction in enumerate(df_transactions['Transaction']):\n",
    "    items = eval(transaction)  # Convert string representation of list to actual list\n",
    "    for item in items:\n",
    "        df_one_hot.loc[idx, item] = True"
   ]
  },
  {
   "cell_type": "code",
   "execution_count": 141,
   "id": "a7d7699c-c839-4445-a542-540584a66d96",
   "metadata": {},
   "outputs": [
    {
     "data": {
      "text/html": [
       "<div>\n",
       "<style scoped>\n",
       "    .dataframe tbody tr th:only-of-type {\n",
       "        vertical-align: middle;\n",
       "    }\n",
       "\n",
       "    .dataframe tbody tr th {\n",
       "        vertical-align: top;\n",
       "    }\n",
       "\n",
       "    .dataframe thead th {\n",
       "        text-align: right;\n",
       "    }\n",
       "</style>\n",
       "<table border=\"1\" class=\"dataframe\">\n",
       "  <thead>\n",
       "    <tr style=\"text-align: right;\">\n",
       "      <th></th>\n",
       "      <th>pasta</th>\n",
       "      <th>sugar</th>\n",
       "      <th>soda</th>\n",
       "      <th>bananas</th>\n",
       "      <th>cheese</th>\n",
       "      <th>eggs</th>\n",
       "      <th>beef</th>\n",
       "      <th>onions</th>\n",
       "      <th>potatoes</th>\n",
       "      <th>juice</th>\n",
       "      <th>...</th>\n",
       "      <th>pepper</th>\n",
       "      <th>tomatoes</th>\n",
       "      <th>tea</th>\n",
       "      <th>apples</th>\n",
       "      <th>carrots</th>\n",
       "      <th>biscuits</th>\n",
       "      <th>rice</th>\n",
       "      <th>chicken</th>\n",
       "      <th>butter</th>\n",
       "      <th>cereal</th>\n",
       "    </tr>\n",
       "  </thead>\n",
       "  <tbody>\n",
       "    <tr>\n",
       "      <th>0</th>\n",
       "      <td>False</td>\n",
       "      <td>False</td>\n",
       "      <td>False</td>\n",
       "      <td>False</td>\n",
       "      <td>False</td>\n",
       "      <td>True</td>\n",
       "      <td>True</td>\n",
       "      <td>False</td>\n",
       "      <td>False</td>\n",
       "      <td>False</td>\n",
       "      <td>...</td>\n",
       "      <td>False</td>\n",
       "      <td>False</td>\n",
       "      <td>False</td>\n",
       "      <td>False</td>\n",
       "      <td>False</td>\n",
       "      <td>False</td>\n",
       "      <td>False</td>\n",
       "      <td>False</td>\n",
       "      <td>False</td>\n",
       "      <td>False</td>\n",
       "    </tr>\n",
       "    <tr>\n",
       "      <th>1</th>\n",
       "      <td>False</td>\n",
       "      <td>False</td>\n",
       "      <td>False</td>\n",
       "      <td>False</td>\n",
       "      <td>False</td>\n",
       "      <td>False</td>\n",
       "      <td>True</td>\n",
       "      <td>False</td>\n",
       "      <td>False</td>\n",
       "      <td>False</td>\n",
       "      <td>...</td>\n",
       "      <td>False</td>\n",
       "      <td>False</td>\n",
       "      <td>False</td>\n",
       "      <td>False</td>\n",
       "      <td>False</td>\n",
       "      <td>False</td>\n",
       "      <td>False</td>\n",
       "      <td>False</td>\n",
       "      <td>True</td>\n",
       "      <td>False</td>\n",
       "    </tr>\n",
       "    <tr>\n",
       "      <th>2</th>\n",
       "      <td>False</td>\n",
       "      <td>False</td>\n",
       "      <td>False</td>\n",
       "      <td>False</td>\n",
       "      <td>False</td>\n",
       "      <td>False</td>\n",
       "      <td>False</td>\n",
       "      <td>False</td>\n",
       "      <td>False</td>\n",
       "      <td>False</td>\n",
       "      <td>...</td>\n",
       "      <td>False</td>\n",
       "      <td>False</td>\n",
       "      <td>False</td>\n",
       "      <td>False</td>\n",
       "      <td>True</td>\n",
       "      <td>False</td>\n",
       "      <td>False</td>\n",
       "      <td>False</td>\n",
       "      <td>False</td>\n",
       "      <td>False</td>\n",
       "    </tr>\n",
       "    <tr>\n",
       "      <th>3</th>\n",
       "      <td>True</td>\n",
       "      <td>False</td>\n",
       "      <td>False</td>\n",
       "      <td>False</td>\n",
       "      <td>True</td>\n",
       "      <td>False</td>\n",
       "      <td>False</td>\n",
       "      <td>False</td>\n",
       "      <td>False</td>\n",
       "      <td>False</td>\n",
       "      <td>...</td>\n",
       "      <td>False</td>\n",
       "      <td>False</td>\n",
       "      <td>False</td>\n",
       "      <td>True</td>\n",
       "      <td>False</td>\n",
       "      <td>False</td>\n",
       "      <td>False</td>\n",
       "      <td>False</td>\n",
       "      <td>False</td>\n",
       "      <td>False</td>\n",
       "    </tr>\n",
       "    <tr>\n",
       "      <th>4</th>\n",
       "      <td>True</td>\n",
       "      <td>False</td>\n",
       "      <td>True</td>\n",
       "      <td>False</td>\n",
       "      <td>False</td>\n",
       "      <td>False</td>\n",
       "      <td>False</td>\n",
       "      <td>False</td>\n",
       "      <td>False</td>\n",
       "      <td>False</td>\n",
       "      <td>...</td>\n",
       "      <td>False</td>\n",
       "      <td>False</td>\n",
       "      <td>False</td>\n",
       "      <td>False</td>\n",
       "      <td>True</td>\n",
       "      <td>False</td>\n",
       "      <td>False</td>\n",
       "      <td>True</td>\n",
       "      <td>False</td>\n",
       "      <td>False</td>\n",
       "    </tr>\n",
       "  </tbody>\n",
       "</table>\n",
       "<p>5 rows × 30 columns</p>\n",
       "</div>"
      ],
      "text/plain": [
       "   pasta  sugar   soda  bananas  cheese   eggs   beef  onions  potatoes  \\\n",
       "0  False  False  False    False   False   True   True   False     False   \n",
       "1  False  False  False    False   False  False   True   False     False   \n",
       "2  False  False  False    False   False  False  False   False     False   \n",
       "3   True  False  False    False    True  False  False   False     False   \n",
       "4   True  False   True    False   False  False  False   False     False   \n",
       "\n",
       "   juice  ...  pepper  tomatoes    tea  apples  carrots  biscuits   rice  \\\n",
       "0  False  ...   False     False  False   False    False     False  False   \n",
       "1  False  ...   False     False  False   False    False     False  False   \n",
       "2  False  ...   False     False  False   False     True     False  False   \n",
       "3  False  ...   False     False  False    True    False     False  False   \n",
       "4  False  ...   False     False  False   False     True     False  False   \n",
       "\n",
       "   chicken  butter  cereal  \n",
       "0    False   False   False  \n",
       "1    False    True   False  \n",
       "2    False   False   False  \n",
       "3    False   False   False  \n",
       "4     True   False   False  \n",
       "\n",
       "[5 rows x 30 columns]"
      ]
     },
     "execution_count": 141,
     "metadata": {},
     "output_type": "execute_result"
    }
   ],
   "source": [
    "# [Student: Ambachow] Preview the one-hot encoded DataFrame\n",
    "df_one_hot.head()"
   ]
  },
  {
   "cell_type": "markdown",
   "id": "010d1d08",
   "metadata": {},
   "source": [
    "### Save One-Hot Encoded Dataframe"
   ]
  },
  {
   "cell_type": "code",
   "execution_count": 142,
   "id": "17b489ca",
   "metadata": {},
   "outputs": [],
   "source": [
    "df_one_hot.to_csv('supermarket_one_hot_encoded.csv', index=False)"
   ]
  },
  {
   "cell_type": "markdown",
   "id": "4c726fb0-d479-4a25-b350-eb1fb2335382",
   "metadata": {},
   "source": [
    "## Generate Frequent Itemsets\n",
    "\n",
    "`Student: Paul`\n"
   ]
  },
  {
   "cell_type": "code",
   "execution_count": 147,
   "id": "30d0da81-9ad3-4e07-9c03-9a99d417d699",
   "metadata": {},
   "outputs": [
    {
     "name": "stdout",
     "output_type": "stream",
     "text": [
      "     support      itemsets\n",
      "10  0.172667  (toothpaste)\n",
      "11  0.161333        (milk)\n",
      "21  0.157000    (tomatoes)\n",
      "2   0.155667        (soda)\n",
      "7   0.154667      (onions)\n"
     ]
    }
   ],
   "source": [
    "from mlxtend.frequent_patterns import apriori\n",
    "\n",
    "# Generate frequent itemsets\n",
    "frequent_itemsets = apriori(df_one_hot, min_support=MIN_SUP, use_colnames=True)\n",
    "\n",
    "# Sort by support\n",
    "frequent_itemsets.sort_values(by='support', ascending=False, inplace=True)\n",
    "\n",
    "# Save to CSV\n",
    "frequent_itemsets.to_csv('frequent_itemsets.csv', index=False)\n",
    "print(frequent_itemsets.head())\n",
    "\n"
   ]
  },
  {
   "cell_type": "markdown",
   "id": "b0aee28c-7c5f-4987-bfe4-600d394ad875",
   "metadata": {},
   "source": [
    "## Identify Closed Frequent Itemsets\n",
    "\n",
    "`Student: Misati`"
   ]
  },
  {
   "cell_type": "code",
   "execution_count": 148,
   "id": "bbf4c1aa-b112-4a3d-849a-c0cece7a2671",
   "metadata": {},
   "outputs": [],
   "source": [
    "# [Student: Misati] Compute the support count\n",
    "support_count = defaultdict(int)\n",
    "for t in transactions:\n",
    "    for item in t:\n",
    "        support_count[frozenset([item])] += 1\n",
    "    for i1 in t:\n",
    "        for i2 in t:\n",
    "            if i1 < i2:\n",
    "                support_count[frozenset([i1, i2])] += 1\n",
    "    if len(t) == 3:\n",
    "        support_count[frozenset(t)] += 1"
   ]
  },
  {
   "cell_type": "code",
   "execution_count": 149,
   "id": "df30ded5-d009-457e-9993-8bb5f88a523a",
   "metadata": {},
   "outputs": [],
   "source": [
    "# [Student: Misati] Find closed itemsets\n",
    "closed_itemsets = []\n",
    "for itemset in support_count:\n",
    "    is_closed = True\n",
    "    for other in support_count:\n",
    "        if itemset < other and support_count[itemset] == support_count[other]:\n",
    "            is_closed = False\n",
    "            break\n",
    "    if is_closed:\n",
    "        closed_itemsets.append((set(itemset), support_count[itemset]))\n",
    "\n",
    "closed_itemsets = sorted(closed_itemsets, key=lambda x: x[1], reverse = True)"
   ]
  },
  {
   "cell_type": "code",
   "execution_count": 150,
   "id": "265d5b15-ff07-4082-98f2-6d78c20f6723",
   "metadata": {},
   "outputs": [],
   "source": [
    "# [Student: Misati] Converting to a Pandas dataframe\n",
    "column_names = ['Itemset', 'Support']\n",
    "df_closed_frequent_itemsets = pd.DataFrame(closed_itemsets, columns=column_names)"
   ]
  },
  {
   "cell_type": "code",
   "execution_count": 151,
   "id": "8f4b72bb-565a-460c-9dc7-809b5a39a7a3",
   "metadata": {},
   "outputs": [
    {
     "data": {
      "text/html": [
       "<div>\n",
       "<style scoped>\n",
       "    .dataframe tbody tr th:only-of-type {\n",
       "        vertical-align: middle;\n",
       "    }\n",
       "\n",
       "    .dataframe tbody tr th {\n",
       "        vertical-align: top;\n",
       "    }\n",
       "\n",
       "    .dataframe thead th {\n",
       "        text-align: right;\n",
       "    }\n",
       "</style>\n",
       "<table border=\"1\" class=\"dataframe\">\n",
       "  <thead>\n",
       "    <tr style=\"text-align: right;\">\n",
       "      <th></th>\n",
       "      <th>Itemset</th>\n",
       "      <th>Support</th>\n",
       "    </tr>\n",
       "  </thead>\n",
       "  <tbody>\n",
       "    <tr>\n",
       "      <th>0</th>\n",
       "      <td>{toothpaste}</td>\n",
       "      <td>518</td>\n",
       "    </tr>\n",
       "    <tr>\n",
       "      <th>1</th>\n",
       "      <td>{milk}</td>\n",
       "      <td>484</td>\n",
       "    </tr>\n",
       "    <tr>\n",
       "      <th>2</th>\n",
       "      <td>{tomatoes}</td>\n",
       "      <td>471</td>\n",
       "    </tr>\n",
       "    <tr>\n",
       "      <th>3</th>\n",
       "      <td>{soda}</td>\n",
       "      <td>467</td>\n",
       "    </tr>\n",
       "    <tr>\n",
       "      <th>4</th>\n",
       "      <td>{onions}</td>\n",
       "      <td>464</td>\n",
       "    </tr>\n",
       "  </tbody>\n",
       "</table>\n",
       "</div>"
      ],
      "text/plain": [
       "        Itemset  Support\n",
       "0  {toothpaste}      518\n",
       "1        {milk}      484\n",
       "2    {tomatoes}      471\n",
       "3        {soda}      467\n",
       "4      {onions}      464"
      ]
     },
     "execution_count": 151,
     "metadata": {},
     "output_type": "execute_result"
    }
   ],
   "source": [
    "# [Student: Misati] Display the top 5 closed itemsets\n",
    "df_closed_frequent_itemsets.head()"
   ]
  },
  {
   "cell_type": "markdown",
   "id": "eb6fd8e6-7e1f-4a77-a388-5bc4bdb810e0",
   "metadata": {},
   "source": [
    "## Identify Maximal Frequent Itemsets\n",
    "\n",
    "`Student: Chawanda`"
   ]
  },
  {
   "cell_type": "markdown",
   "id": "3cf49640-7384-4d4a-ac64-4a478d8cd848",
   "metadata": {},
   "source": [
    "## Submission Files\n",
    "\n",
    "`Student: Gathogo`"
   ]
  }
 ],
 "metadata": {
  "kernelspec": {
   "display_name": "Python 3",
   "language": "python",
   "name": "python3"
  },
  "language_info": {
   "codemirror_mode": {
    "name": "ipython",
    "version": 3
   },
   "file_extension": ".py",
   "mimetype": "text/x-python",
   "name": "python",
   "nbconvert_exporter": "python",
   "pygments_lexer": "ipython3",
   "version": "3.11.9"
  }
 },
 "nbformat": 4,
 "nbformat_minor": 5
}
