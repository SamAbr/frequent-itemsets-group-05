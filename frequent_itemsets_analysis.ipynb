{
 "cells": [
  {
   "cell_type": "code",
   "execution_count": 31,
   "id": "3672e966-c7a3-441b-9b44-ba99b9fd29f6",
   "metadata": {},
   "outputs": [
    {
     "data": {
      "text/html": [
       "<div>\n",
       "<style scoped>\n",
       "    .dataframe tbody tr th:only-of-type {\n",
       "        vertical-align: middle;\n",
       "    }\n",
       "\n",
       "    .dataframe tbody tr th {\n",
       "        vertical-align: top;\n",
       "    }\n",
       "\n",
       "    .dataframe thead th {\n",
       "        text-align: right;\n",
       "    }\n",
       "</style>\n",
       "<table border=\"1\" class=\"dataframe\">\n",
       "  <thead>\n",
       "    <tr style=\"text-align: right;\">\n",
       "      <th></th>\n",
       "      <th>Transaction</th>\n",
       "    </tr>\n",
       "  </thead>\n",
       "  <tbody>\n",
       "    <tr>\n",
       "      <th>0</th>\n",
       "      <td>[beef, eggs]</td>\n",
       "    </tr>\n",
       "    <tr>\n",
       "      <th>1</th>\n",
       "      <td>[beef, butter, chocolate, soap, detergent]</td>\n",
       "    </tr>\n",
       "    <tr>\n",
       "      <th>2</th>\n",
       "      <td>[salt, carrots]</td>\n",
       "    </tr>\n",
       "    <tr>\n",
       "      <th>3</th>\n",
       "      <td>[pasta, toothpaste, detergent, bread, apples, ...</td>\n",
       "    </tr>\n",
       "    <tr>\n",
       "      <th>4</th>\n",
       "      <td>[carrots, pasta, soda, chicken]</td>\n",
       "    </tr>\n",
       "  </tbody>\n",
       "</table>\n",
       "</div>"
      ],
      "text/plain": [
       "                                         Transaction\n",
       "0                                       [beef, eggs]\n",
       "1         [beef, butter, chocolate, soap, detergent]\n",
       "2                                    [salt, carrots]\n",
       "3  [pasta, toothpaste, detergent, bread, apples, ...\n",
       "4                    [carrots, pasta, soda, chicken]"
      ]
     },
     "execution_count": 31,
     "metadata": {},
     "output_type": "execute_result"
    }
   ],
   "source": [
    "# [Student: Samuel] Import necessary libraries\n",
    "import pandas as pd\n",
    "import random\n",
    "\n",
    "# [Student: Samuel] Set a seed\n",
    "random.seed(123)\n",
    "\n",
    "# [Student: Samuel] Define a pool of 30 unique supermarket items\n",
    "item_pool = [\n",
    "    'milk', 'bread', 'eggs', 'butter', 'cheese', 'apples', 'bananas', 'chicken', 'beef', 'rice',\n",
    "    'pasta', 'sugar', 'salt', 'pepper', 'onions', 'tomatoes', 'lettuce', 'carrots', 'potatoes', 'cereal',\n",
    "    'yogurt', 'juice', 'soda', 'coffee', 'tea', 'biscuits', 'chocolate', 'detergent', 'soap', 'toothpaste'\n",
    "]\n",
    "\n",
    "# [Student: Samuel] Set number of transactions to simulate\n",
    "num_transactions = 3000\n",
    "\n",
    "# [Student: Samuel] Generate a list of transactions\n",
    "transactions = []\n",
    "for _ in range(num_transactions):\n",
    "    # Randomly choose 2 to 7 items per transaction\n",
    "    num_items = random.randint(2, 7)\n",
    "    transaction = random.sample(item_pool, num_items)\n",
    "    transactions.append(transaction)\n",
    "\n",
    "# [Student: Samuel] Convert list of transactions into a DataFrame for saving\n",
    "df_transactions = pd.DataFrame({'Transaction': transactions})\n",
    "\n",
    "# [Student: Samuel] Save simulated transactions to CSV\n",
    "df_transactions.to_csv('supermarket_transactions.csv', index=False)\n",
    "\n",
    "# [Student: Samuel] preview\n",
    "df_transactions.head()"
   ]
  }
 ],
 "metadata": {
  "kernelspec": {
   "display_name": "Python 3 (ipykernel)",
   "language": "python",
   "name": "python3"
  },
  "language_info": {
   "codemirror_mode": {
    "name": "ipython",
    "version": 3
   },
   "file_extension": ".py",
   "mimetype": "text/x-python",
   "name": "python",
   "nbconvert_exporter": "python",
   "pygments_lexer": "ipython3",
   "version": "3.12.4"
  }
 },
 "nbformat": 4,
 "nbformat_minor": 5
}
